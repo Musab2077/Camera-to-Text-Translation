{
 "cells": [
  {
   "cell_type": "code",
   "execution_count": 1,
   "id": "88c090b9-96e4-4f4f-a80e-60437b0d3fd5",
   "metadata": {},
   "outputs": [
    {
     "name": "stderr",
     "output_type": "stream",
     "text": [
      "Using CPU. Note: This module is much faster with a GPU.\n"
     ]
    }
   ],
   "source": [
    "import easyocr\n",
    "from transformers import pipeline\n",
    "import cv2\n",
    "reader=easyocr.Reader(['en'],gpu=False)"
   ]
  },
  {
   "cell_type": "code",
   "execution_count": 2,
   "id": "72606589-d127-4057-abc2-2c658151006e",
   "metadata": {},
   "outputs": [
    {
     "name": "stderr",
     "output_type": "stream",
     "text": [
      "No model was supplied, defaulted to google-t5/t5-base and revision 686f1db (https://huggingface.co/google-t5/t5-base).\n",
      "Using a pipeline without specifying a model name and revision in production is not recommended.\n"
     ]
    },
    {
     "name": "stdout",
     "output_type": "stream",
     "text": [
      "WARNING:tensorflow:From C:\\Users\\PCR\\AppData\\Local\\Programs\\Python\\Python312\\Lib\\site-packages\\tf_keras\\src\\losses.py:2976: The name tf.losses.sparse_softmax_cross_entropy is deprecated. Please use tf.compat.v1.losses.sparse_softmax_cross_entropy instead.\n",
      "\n"
     ]
    },
    {
     "name": "stderr",
     "output_type": "stream",
     "text": [
      "C:\\Users\\PCR\\AppData\\Local\\Programs\\Python\\Python312\\Lib\\site-packages\\transformers\\tokenization_utils_base.py:1601: FutureWarning: `clean_up_tokenization_spaces` was not set. It will be set to `True` by default. This behavior will be depracted in transformers v4.45, and will be then set to `False` by default. For more details check this issue: https://github.com/huggingface/transformers/issues/31884\n",
      "  warnings.warn(\n",
      "No model was supplied, defaulted to google-t5/t5-base and revision 686f1db (https://huggingface.co/google-t5/t5-base).\n",
      "Using a pipeline without specifying a model name and revision in production is not recommended.\n",
      "C:\\Users\\PCR\\AppData\\Local\\Programs\\Python\\Python312\\Lib\\site-packages\\transformers\\models\\marian\\tokenization_marian.py:175: UserWarning: Recommended: pip install sacremoses.\n",
      "  warnings.warn(\"Recommended: pip install sacremoses.\")\n"
     ]
    }
   ],
   "source": [
    "translation_de=pipeline('translation_en_to_de')\n",
    "translation_de=pipeline('translation_en_to_de')\n",
    "translation_ur=pipeline(\"translation\", model=\"Helsinki-NLP/opus-mt-en-ur\")"
   ]
  },
  {
   "cell_type": "code",
   "execution_count": 3,
   "id": "708d568c-a813-40cd-8147-06dada29a19c",
   "metadata": {},
   "outputs": [],
   "source": [
    "def translation_transformers(text,language):\n",
    "    if 'ur'==language:\n",
    "        results=translation_ur(text)\n",
    "    if 'de'==language:\n",
    "        results=translation_de(text)\n",
    "    if 'ja'==language:\n",
    "        results=translation_ja(text)\n",
    "    return results[0]['translation_text']"
   ]
  },
  {
   "cell_type": "code",
   "execution_count": 6,
   "id": "ec9bcacc-a819-4ff1-a822-e11ba442b087",
   "metadata": {},
   "outputs": [],
   "source": [
    "def video_to_text_translation(camera_no_or_video_path=0,want_to_translate=True,\n",
    "                              language_to_translate='ur',button_to_close_cam='q'):\n",
    "    cap=cv2.VideoCapture(camera_no)\n",
    "    w,h=720,480\n",
    "    cap.set(3, w)\n",
    "    cap.set(4, h)\n",
    "    \n",
    "    top_left=(100,100)\n",
    "    top_right=(w-100,h-100)\n",
    "    iterable=0\n",
    "    ctime=0\n",
    "    ptime=0\n",
    "    \n",
    "    while cap.isOpened():\n",
    "        success,frame=cap.read()\n",
    "        if reader.readtext(frame):\n",
    "            text=' '\n",
    "            for result in reader.readtext(frame):\n",
    "                txt=result[1]+' '\n",
    "                # print(txt)\n",
    "                texts=text+txt\n",
    "                text=texts\n",
    "            if want_to_translate:\n",
    "                filters=\"!#$%&*+-/;<=>@^_`|'~\\t\\n?\"\n",
    "                for filter in filters:\n",
    "                    filter_text=text.replace(filter,' ')\n",
    "                    if filter_text!=text:\n",
    "                        text=filter_text\n",
    "                        if filter=='  ':\n",
    "                            filter_text=text.replace(filter,' ')\n",
    "                    else:\n",
    "                        filter_text=text\n",
    "                text=str(text)\n",
    "                translated_text=translation_transformers(text,language_to_translate)\n",
    "                return translated_text\n",
    "            else:\n",
    "                text=str(text)\n",
    "                return text\n",
    "        ctime=time.time()\n",
    "        fps=1/(ctime-ptime)\n",
    "        ptime=ctime\n",
    "        cv2.putText(frame,str(fps),(50,50),cv2.FONT_HERSHEY_PLAIN,2, color=(255,0,0))\n",
    "        cv2.imshow('text detection',frame)\n",
    "        if cv2.waitKey(1) & 0XFF==ord(button_to_close_cam):\n",
    "            break\n",
    "    cap.release()\n",
    "    cv2.destroyAllWindows()"
   ]
  },
  {
   "cell_type": "code",
   "execution_count": null,
   "id": "0aca521c-c58b-4333-b969-af5f5f377db2",
   "metadata": {},
   "outputs": [],
   "source": []
  }
 ],
 "metadata": {
  "kernelspec": {
   "display_name": "Python 3 (ipykernel)",
   "language": "python",
   "name": "python3"
  },
  "language_info": {
   "codemirror_mode": {
    "name": "ipython",
    "version": 3
   },
   "file_extension": ".py",
   "mimetype": "text/x-python",
   "name": "python",
   "nbconvert_exporter": "python",
   "pygments_lexer": "ipython3",
   "version": "3.12.3"
  }
 },
 "nbformat": 4,
 "nbformat_minor": 5
}
